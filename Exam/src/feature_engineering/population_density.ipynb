{
 "cells": [
  {
   "cell_type": "markdown",
   "metadata": {},
   "source": [
    "## What happens here?\n",
    "- The grunnkrets and age distribution data is loaded.\n",
    "- 2016-values are kept if they exist\n",
    "- Total population and age groups 0-14, 15-64, 64-90 is aggregated\n",
    "- Population density is computed\n",
    "\n",
    "## Remarks\n",
    "- There are 1891 NaNs, around 15%, because we miss age data for some grunnkrets'.\n",
    "\n",
    "## Further improvements\n",
    "- Outlier detection: Small areas yield large densities. Small areas and small populations might be set to NaNs."
   ]
  },
  {
   "cell_type": "code",
   "execution_count": 1,
   "metadata": {},
   "outputs": [],
   "source": [
    "import pandas as pd\n",
    "import numpy as np\n",
    "import matplotlib.pyplot as plt\n",
    "\n"
   ]
  },
  {
   "cell_type": "code",
   "execution_count": 2,
   "metadata": {},
   "outputs": [],
   "source": [
    "grunnkrets = pd.read_csv('../../data/grunnkrets_norway_stripped.csv')\n",
    "grunnkrets_ages = pd.read_csv('../../data/grunnkrets_age_distribution.csv')\n",
    "grunnkrets_household = pd.read_csv(\"../../data/grunnkrets_households_num_persons.csv\")\n",
    "grunnkrets_household = grunnkrets_household.sort_values(by=[\"grunnkrets_id\", \"year\"]).drop_duplicates(subset=[\"grunnkrets_id\"], keep='last')\n",
    "grunnkrets_ages = grunnkrets_ages.sort_values(by=[\"grunnkrets_id\", \"year\"]).drop_duplicates(subset=[\"grunnkrets_id\"], keep='last')\n",
    "grunnkrets = grunnkrets.sort_values(by=[\"grunnkrets_id\", \"year\"]).drop_duplicates(subset=[\"grunnkrets_id\"], keep='last')"
   ]
  },
  {
   "cell_type": "code",
   "execution_count": 3,
   "metadata": {},
   "outputs": [],
   "source": [
    "grunnkrets_household.drop(columns=\"year\", inplace=True)\n",
    "grunnkrets_household[\"sum_people\"] = grunnkrets_household.drop(columns=\"grunnkrets_id\").sum(axis=1)"
   ]
  },
  {
   "cell_type": "code",
   "execution_count": 7,
   "metadata": {},
   "outputs": [],
   "source": [
    "df = grunnkrets_ages.drop_duplicates(subset=[\"grunnkrets_id\"], keep='last')\n",
    "df = grunnkrets.merge(df, how='left', on='grunnkrets_id')\n",
    "df[\"grunnkrets_population\"] = df.drop(columns=[\"grunnkrets_id\", \"year_x\", \"year_y\", \"area_km2\", \"geometry\", \"municipality_name\", \"district_name\", \"grunnkrets_name\"]).sum(axis=1)\n",
    "df = df.merge(grunnkrets_household[['grunnkrets_id', \"sum_people\"]], how=\"left\", on=\"grunnkrets_id\")\n",
    "df['grunnkrets_population'] = df.apply(\n",
    "    lambda row: row['sum_people'] if row['grunnkrets_population'] == 0 else row['grunnkrets_population'],\n",
    "    axis=1\n",
    ")\n",
    "df[\"district_population\"] = df.groupby(\"district_name\")[\"grunnkrets_population\"].transform(\"sum\")\n",
    "df[\"municipality_population\"] = df.groupby(\"municipality_name\")[\"grunnkrets_population\"].transform(\"sum\")\n",
    "df[\"district_area\"] = df.groupby(\"district_name\")[\"area_km2\"].transform(\"sum\")\n",
    "df[\"municipality_area\"] = df.groupby(\"municipality_name\")[\"area_km2\"].transform(\"sum\")\n",
    "ages = [0,3,7,13,18,25,31,41,54,65,78,91]\n",
    "# ages = [0,5,12,18,30,45,65,91]\n",
    "ages = [0,15,35,65,91]\n",
    "# ages = list(range(92))\n",
    "for j in range(1, len(ages)):  \n",
    "    age_from = ages[j-1]\n",
    "    age_to = ages[j]\n",
    "    df[f\"grunnkrets_age_{age_from}-{age_to-1}\"] = df[df.columns[df.columns.isin([f\"age_{i}\" for i in range(age_from, age_to)])]].sum(axis=1)\n",
    "    df[f\"grunnkrets_age_{age_from}-{age_to-1}_distribution\"] = df[f\"grunnkrets_age_{age_from}-{age_to-1}\"]/df[\"grunnkrets_population\"]\n",
    "\n",
    "for name in [\"district_name\", \"municipality_name\"]:\n",
    "    for j, age in enumerate(ages):\n",
    "        prefix = name.split(\"_\")[0]\n",
    "        if j == 0:\n",
    "            pass\n",
    "            # columns = [f\"age_{i}\" for i in range(age)]\n",
    "            # columns.append(name)\n",
    "            # df[f\"{prefix}_age_0-{ages[j]-1}\"] = df[df.columns[df.columns.isin(columns)]].groupby(name).transform(\"sum\").sum(axis=1)\n",
    "        else:\n",
    "            columns = [f\"age_{i}\" for i in range(ages[j-1], age)]\n",
    "            columns.append(name)\n",
    "            df[f\"{prefix}_age_{ages[j-1]}-{ages[j]-1}\"] = df[df.columns[df.columns.isin(columns)]].groupby(name).transform(\"sum\").sum(axis=1)\n",
    "            df[f\"{prefix}_age_{ages[j-1]}-{ages[j]-1}_distribution\"] = df[f\"{prefix}_age_{ages[j-1]}-{ages[j]-1}\"]/df[f\"{prefix}_population\"]\n",
    "# There is currently an error with this, so it is currently discarded\n",
    "# for name in [\"grunnkrets\", \"district\", \"municipality\"]:\n",
    "#     print(df.columns.tolist())\n",
    "#     df[f\"{name}_pop_number\"] = np.sum([df[f\"{name}_age_{ages[j-1]}-{ages[j]-1}\"]*(j - len(ages)/2)/(1-len(ages)/2) for j in range(1, len(ages))])/df[f\"{name}_population\"] \n",
    "df[\"grunnkrets_density\"] = df.grunnkrets_population/df.area_km2\n",
    "df[\"district_density\"] = df.district_population/df.district_area\n",
    "df[\"municipality_density\"] = df.municipality_population/df.municipality_area\n",
    "\n",
    "df = df.drop(columns=[f\"age_{i}\" for i in range(91)])\n",
    "df = df.drop(columns=[\"year_y\"])\n",
    "df = df.rename(columns={\"year_x\": \"year\"})\n",
    "# df.T"
   ]
  },
  {
   "cell_type": "code",
   "execution_count": 8,
   "metadata": {},
   "outputs": [],
   "source": [
    "df.to_csv(\"../../own_data/grunnkrets_norway_large.csv\", index=False)"
   ]
  }
 ],
 "metadata": {
  "kernelspec": {
   "display_name": "Python 3.10.6 64-bit",
   "language": "python",
   "name": "python3"
  },
  "language_info": {
   "codemirror_mode": {
    "name": "ipython",
    "version": 3
   },
   "file_extension": ".py",
   "mimetype": "text/x-python",
   "name": "python",
   "nbconvert_exporter": "python",
   "pygments_lexer": "ipython3",
   "version": "3.10.6"
  },
  "orig_nbformat": 4,
  "vscode": {
   "interpreter": {
    "hash": "e7370f93d1d0cde622a1f8e1c04877d8463912d04d973331ad4851f04de6915a"
   }
  }
 },
 "nbformat": 4,
 "nbformat_minor": 2
}
