{
 "cells": [
  {
   "cell_type": "markdown",
   "metadata": {},
   "source": [
    "# Rurality and shopping area \n",
    "## What happens\n",
    "- The script below computes how many points that are inside a radius of `distance_meters` meters of the point.\n",
    "- Computes how many stores that are closer than `distance_meters` meters from another store for all the stores\n",
    "- Computes how many busstops that are closer than `distance_meters` meters from a store for all the stores\n",
    "- Computes how many busstops that are closer than `distance_meters` meters from another busstop for all the busstops (not sure if this is important or not)\n",
    "- Cumputes the distance to the closest busstop for all stores.\n",
    "\n",
    "## Computational improvements\n",
    "### Initial attempt\n",
    "- Pure python\n",
    "- Would have run in at least a couple of days to compute the pairs of distances and counts\n",
    "- Not acceptable\n",
    "\n",
    "### Optimizing with numba first attempt\n",
    "- Using `njit` decorator of `numba`\n",
    "- Computation down to about 10 minutes\n",
    "- Still a bit slow for parameter tuning for the `distance_meters`-variable\n",
    "\n",
    "### Parallelizing with numba\n",
    "- Using `prange` and `parallel=True` from `numba` \n",
    "- Cutting the time to a couple of minutes\n",
    "### Further improvements - Cuda\n",
    "- Possibly much faster with GPU, but currently not prioritized\n",
    "\n",
    "### Why not compute all pariwise distances once and store it\n",
    "Whould have taken $8B*50122^2\\approx 20GB$ where `50122` is the total number of stores, and 8B is the size of a float64. Could have changed to int32 which would have reduced the size to 10GB. Could have made the matrix triangular and thus reduced the size to 5GB, but it would still be to big.\n",
    "This would needed to be done for `stores x stores`, `stores x busstops` and possibly `busstops x busstops`"
   ]
  },
  {
   "cell_type": "code",
   "execution_count": 3,
   "metadata": {},
   "outputs": [],
   "source": [
    "import numpy as np\n",
    "import pandas as pd\n",
    "from shapely import wkt\n",
    "import geopandas as gpd\n",
    "from numba import prange, njit\n",
    "from math import radians, cos, sin, asin, sqrt  "
   ]
  },
  {
   "cell_type": "code",
   "execution_count": 4,
   "metadata": {},
   "outputs": [],
   "source": [
    "busstops = pd.read_csv('../../data/busstops_norway.csv')\n",
    "stores_extra = pd.read_csv('../../data/stores_extra.csv')\n",
    "stores_train = pd.read_csv('../../data/stores_train.csv')\n",
    "stores_test = pd.read_csv('../../data/stores_test.csv')\n",
    "grunnkrets = pd.read_csv('../../data/grunnkrets_norway_stripped.csv')\n",
    "\n",
    "busstops['geometry'] = busstops['geometry'].apply(wkt.loads)\n",
    "gdf = gpd.GeoDataFrame(busstops, crs='EPSG:4326')"
   ]
  },
  {
   "cell_type": "code",
   "execution_count": 5,
   "metadata": {},
   "outputs": [],
   "source": [
    "grunnkrets = grunnkrets.sort_values(by=[\"grunnkrets_id\", \"year\"]).drop_duplicates(subset=[\"grunnkrets_id\"], keep='last')\n"
   ]
  },
  {
   "cell_type": "code",
   "execution_count": 6,
   "metadata": {},
   "outputs": [],
   "source": [
    "# For calculating the distance in Kilometres   \n",
    "@njit\n",
    "def geo_distance(La1, Lo1, La2, Lo2):  \n",
    "       \n",
    "    # The math module contains the function name \"radians\" which is used for converting the degrees value into radians.  \n",
    "    Lo1 = radians(Lo1)  \n",
    "    Lo2 = radians(Lo2)  \n",
    "    La1 = radians(La1)  \n",
    "    La2 = radians(La2)  \n",
    "        \n",
    "    # Using the \"Haversine formula\"  \n",
    "    D_Lo = Lo2 - Lo1  \n",
    "    D_La = La2 - La1  \n",
    "    P = sin(D_La / 2)**2 + cos(La1) * cos(La2) * sin(D_Lo / 2)**2  \n",
    "   \n",
    "    Q = 2 * asin(sqrt(P))  \n",
    "      \n",
    "    # The radius of earth in kilometres.  \n",
    "    R_km = 6371  \n",
    "        \n",
    "    # calculate result in meters\n",
    "    return(Q * R_km)  * 1000"
   ]
  },
  {
   "cell_type": "code",
   "execution_count": 7,
   "metadata": {},
   "outputs": [],
   "source": [
    "@njit('i4[:](f8[:,:], f8[:,:], i8, b1)', parallel=True)\n",
    "def number_of_points_closer_than_numba(x, y, distance_meters: int = 1000, x_and_y_same_array=False):\n",
    "    z = np.empty(x.shape[0], dtype=np.int32)\n",
    "    num_rows = x.shape[0]\n",
    "    for i in prange(num_rows):\n",
    "        # number of points closer that distance_meters from point\n",
    "        count = np.count_nonzero(np.array([geo_distance(x[i][0], x[i][1], y[j][0], y[j][1]) < distance_meters \n",
    "            for j in prange(y.shape[0])]))\n",
    "        # remove 1 if x and y are equal as distance to self is 0\n",
    "        if x_and_y_same_array:\n",
    "            count -= 1\n",
    "        z[i] = count\n",
    "    return z\n",
    "    "
   ]
  },
  {
   "cell_type": "code",
   "execution_count": 8,
   "metadata": {},
   "outputs": [],
   "source": [
    "@njit('Tuple((i4[:], f8[:]))(f8[:,:], f8[:,:], b1)', parallel=True)\n",
    "def closest_points_numba(x, y, x_and_y_same_array=True):\n",
    "    closest_points_distance = np.empty(x.shape[0], dtype=np.float64)\n",
    "    closest_points_index = np.empty(x.shape[0], dtype=np.int32)\n",
    "\n",
    "    for i in prange(x.shape[0]):\n",
    "        # closest point that is not itself\n",
    "        distance_points = np.array([geo_distance(x[i][0], x[i][1], y[j][0], y[j][1]) if x_and_y_same_array == False or x[i][0] != y[j][0] and x[i][1] != y[j][1] else np.inf\n",
    "                                    for j in range(y.shape[0])])\n",
    "        closest_point_index = np.argmin(distance_points)\n",
    "        closest_point_distance = np.min(distance_points)\n",
    "        closest_points_distance[i] = closest_point_distance\n",
    "        closest_points_index[i] = closest_point_index\n",
    "\n",
    "    return closest_points_index, closest_points_distance"
   ]
  },
  {
   "cell_type": "code",
   "execution_count": 9,
   "metadata": {},
   "outputs": [],
   "source": [
    "def append_number_of_points_closer_than(df, points_in_df, geo_points, column_name, distance_meters: int = 1000, x_and_y_same_array=False):\n",
    "    close_elements = number_of_points_closer_than_numba(x=points_in_df, y=geo_points, distance_meters=distance_meters, x_and_y_same_array=x_and_y_same_array)\n",
    "    df[column_name] = close_elements"
   ]
  },
  {
   "cell_type": "code",
   "execution_count": 10,
   "metadata": {},
   "outputs": [],
   "source": [
    "def append_closest_points(df, geo_df, points_in_df, geo_points, index_column_name, new_column_name, x_and_y_same_array=False):\n",
    "    closest_elements_index, closest_elements_distance = closest_points_numba(points_in_df, geo_points, x_and_y_same_array=x_and_y_same_array)\n",
    "    df[new_column_name] = closest_elements_distance\n",
    "    # add id of point that was closest to each point in df \n",
    "    print(closest_elements_distance, closest_elements_index)\n",
    "    df[index_column_name] = geo_df.iloc[closest_elements_index].set_index(df.index)[index_column_name]\n"
   ]
  },
  {
   "cell_type": "code",
   "execution_count": 11,
   "metadata": {},
   "outputs": [],
   "source": [
    "# Creating a np array of [lat, lon] from shapely GeoPoints\n",
    "geo_busstops = np.array(list([geo.y, geo.x] for geo in gdf.geometry.to_numpy()))"
   ]
  },
  {
   "cell_type": "code",
   "execution_count": 12,
   "metadata": {},
   "outputs": [],
   "source": [
    "append_number_of_points_closer_than(gdf, geo_busstops, geo_busstops, \"num_of_buss_stops_closer_that_1000_to_busstop\", x_and_y_same_array=True)\n",
    "gdf.to_csv(\"../../own_data/busstops_norway_with_count.csv\")"
   ]
  },
  {
   "cell_type": "code",
   "execution_count": 13,
   "metadata": {},
   "outputs": [],
   "source": [
    "# concat all data of stores together, adding index with train name from where the row came from\n",
    "stores = pd.concat({\"train\": stores_train, \"extra\": stores_extra, \"test\": stores_test})"
   ]
  },
  {
   "cell_type": "code",
   "execution_count": 14,
   "metadata": {},
   "outputs": [],
   "source": [
    "# all the lat lons of the stores, to a numpy array so that the numba-function can compute the distances\n",
    "geo_stores = stores[[\"lat\", \"lon\"]].to_numpy()"
   ]
  },
  {
   "cell_type": "code",
   "execution_count": 15,
   "metadata": {},
   "outputs": [
    {
     "name": "stdout",
     "output_type": "stream",
     "text": [
      "CPU times: user 14min 43s, sys: 136 ms, total: 14min 43s\n",
      "Wall time: 3min 49s\n"
     ]
    }
   ],
   "source": [
    "%%time\n",
    "# append number of close stores and close busstops\n",
    "append_number_of_points_closer_than(stores, geo_stores, geo_stores, \"other_stores_1000\", x_and_y_same_array=True, distance_meters=1000)\n",
    "append_number_of_points_closer_than(stores, geo_stores, geo_stores, \"other_stores_100\", x_and_y_same_array=True, distance_meters=100)\n",
    "append_number_of_points_closer_than(stores, geo_stores, geo_stores, \"other_stores_50\", x_and_y_same_array=True, distance_meters=50)\n",
    "append_number_of_points_closer_than(stores, geo_stores, geo_stores, \"other_stores_250\", x_and_y_same_array=True, distance_meters=250)\n",
    "append_number_of_points_closer_than(stores, geo_stores, geo_busstops, \"buss_stops_1000\", x_and_y_same_array=False, distance_meters=1000)\n",
    "append_number_of_points_closer_than(stores, geo_stores, geo_busstops, \"buss_stops_300\", x_and_y_same_array=False, distance_meters=300)"
   ]
  },
  {
   "cell_type": "code",
   "execution_count": 22,
   "metadata": {},
   "outputs": [
    {
     "name": "stdout",
     "output_type": "stream",
     "text": [
      "[495.65295876 102.35551582  25.53176743 ... 114.20099103  63.82726397\n",
      " 125.76760068] [48753   140 58056 ... 30708  9534 56169]\n"
     ]
    }
   ],
   "source": [
    "append_closest_points(\n",
    "    df=stores, \n",
    "    geo_df=busstops, \n",
    "    points_in_df=geo_stores, \n",
    "    geo_points=geo_busstops, \n",
    "    index_column_name='busstop_id', \n",
    "    new_column_name=\"distance_closest_busstop\", \n",
    "    x_and_y_same_array=False)"
   ]
  },
  {
   "cell_type": "code",
   "execution_count": 16,
   "metadata": {},
   "outputs": [],
   "source": [
    "# find all stores that has a grunnkrets_id that doesn't exist in the grunnkrets table\n",
    "stores_wo_grunnkrets = stores.merge(grunnkrets[['grunnkrets_id', 'grunnkrets_name']], how=\"left\", on=\"grunnkrets_id\")\n",
    "nan_stores_all = stores_wo_grunnkrets.loc[stores_wo_grunnkrets['grunnkrets_name'].isna()]\n",
    "outer_stores_test = stores_test.merge(grunnkrets[['grunnkrets_id', 'grunnkrets_name']], how=\"left\", on=\"grunnkrets_id\")\n",
    "nan_stores = outer_stores_test.loc[outer_stores_test['grunnkrets_name'].isna()]"
   ]
  },
  {
   "cell_type": "code",
   "execution_count": 17,
   "metadata": {},
   "outputs": [
    {
     "name": "stdout",
     "output_type": "stream",
     "text": [
      "[8.33037557e+02 1.13153469e+02 8.71270649e-01 9.92971322e+03\n",
      " 6.35282105e+03 2.77653490e+04 1.59262209e+03 1.51000246e+04\n",
      " 6.76384356e+03 2.38863345e+02 2.93062827e+03 1.56463351e+03\n",
      " 6.54021281e+03 2.73123562e+04 4.19203250e+02 2.04058526e+04\n",
      " 2.35162647e+04 2.46535005e+03 1.41086385e+03 1.13350247e+04\n",
      " 1.76739494e+03 4.45915791e+03 1.26082022e+04 3.61803004e+03\n",
      " 1.68662920e+03 8.14563288e+03 2.93062827e+03] [47589 16979 14155  1596  7099 46512 49150 14062 28820  7907 49856 14595\n",
      " 16959 10586  1375 11272  2199 14393 14714  9886 13520 25574 46335   659\n",
      " 42344 14702 44173]\n"
     ]
    },
    {
     "name": "stderr",
     "output_type": "stream",
     "text": [
      "/tmp/ipykernel_624097/1070740115.py:3: SettingWithCopyWarning: \n",
      "A value is trying to be set on a copy of a slice from a DataFrame.\n",
      "Try using .loc[row_indexer,col_indexer] = value instead\n",
      "\n",
      "See the caveats in the documentation: https://pandas.pydata.org/pandas-docs/stable/user_guide/indexing.html#returning-a-view-versus-a-copy\n",
      "  df[new_column_name] = closest_elements_distance\n",
      "/tmp/ipykernel_624097/1070740115.py:6: SettingWithCopyWarning: \n",
      "A value is trying to be set on a copy of a slice from a DataFrame.\n",
      "Try using .loc[row_indexer,col_indexer] = value instead\n",
      "\n",
      "See the caveats in the documentation: https://pandas.pydata.org/pandas-docs/stable/user_guide/indexing.html#returning-a-view-versus-a-copy\n",
      "  df[index_column_name] = geo_df.iloc[closest_elements_index].set_index(df.index)[index_column_name]\n"
     ]
    }
   ],
   "source": [
    "# copy grunnkrets of stores so that we can impute the grunnkrets_id of the test_stores that has a bad grunnkrets_id\n",
    "stores['grunnkrets_1'] = stores['grunnkrets_id']\n",
    "append_closest_points(\n",
    "    df=nan_stores,\n",
    "    geo_df=stores[~stores.grunnkrets_id.isin(nan_stores_all.grunnkrets_id)],\n",
    "    points_in_df=nan_stores[[\"lat\", \"lon\"]].to_numpy(),\n",
    "    geo_points=geo_stores,\n",
    "    index_column_name='grunnkrets_1',\n",
    "    new_column_name='closest_store_id',\n",
    "    x_and_y_same_array=True\n",
    ")"
   ]
  },
  {
   "cell_type": "code",
   "execution_count": 18,
   "metadata": {},
   "outputs": [
    {
     "name": "stderr",
     "output_type": "stream",
     "text": [
      "/tmp/ipykernel_624097/1378478374.py:2: SettingWithCopyWarning: \n",
      "A value is trying to be set on a copy of a slice from a DataFrame.\n",
      "Try using .loc[row_indexer,col_indexer] = value instead\n",
      "\n",
      "See the caveats in the documentation: https://pandas.pydata.org/pandas-docs/stable/user_guide/indexing.html#returning-a-view-versus-a-copy\n",
      "  nan_stores.grunnkrets_id = nan_stores.grunnkrets_1\n"
     ]
    }
   ],
   "source": [
    "# rename column of the grunnkrets_id of the stores with bad grunnkrets_id\n",
    "nan_stores.grunnkrets_id = nan_stores.grunnkrets_1\n"
   ]
  },
  {
   "cell_type": "code",
   "execution_count": 19,
   "metadata": {},
   "outputs": [],
   "source": [
    "# set grunnkrets_id to grunnkrets_id of the closest store, that is a good grunnkrets_id\n",
    "for _, row in nan_stores[['store_id', 'grunnkrets_1']].iterrows():\n",
    "    stores.loc[stores.store_id == row['store_id'], 'grunnkrets_id'] = row.grunnkrets_1"
   ]
  },
  {
   "cell_type": "code",
   "execution_count": 23,
   "metadata": {},
   "outputs": [],
   "source": [
    "stores.drop(columns=\"grunnkrets_1\")\n",
    "stores.to_csv(\"../../own_data/stores.csv\")"
   ]
  },
  {
   "cell_type": "code",
   "execution_count": null,
   "metadata": {},
   "outputs": [],
   "source": []
  }
 ],
 "metadata": {
  "kernelspec": {
   "display_name": "Python 3.10.6 64-bit",
   "language": "python",
   "name": "python3"
  },
  "language_info": {
   "codemirror_mode": {
    "name": "ipython",
    "version": 3
   },
   "file_extension": ".py",
   "mimetype": "text/x-python",
   "name": "python",
   "nbconvert_exporter": "python",
   "pygments_lexer": "ipython3",
   "version": "3.10.6"
  },
  "orig_nbformat": 4,
  "vscode": {
   "interpreter": {
    "hash": "e7370f93d1d0cde622a1f8e1c04877d8463912d04d973331ad4851f04de6915a"
   }
  }
 },
 "nbformat": 4,
 "nbformat_minor": 2
}
