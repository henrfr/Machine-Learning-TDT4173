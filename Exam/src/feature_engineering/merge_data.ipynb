{
 "cells": [
  {
   "cell_type": "code",
   "execution_count": 10,
   "metadata": {},
   "outputs": [],
   "source": [
    "import pandas as pd\n",
    "import numpy as np"
   ]
  },
  {
   "cell_type": "code",
   "execution_count": 11,
   "metadata": {},
   "outputs": [],
   "source": [
    "stores = pd.read_csv(\"../../own_data/stores.csv\")\n",
    "busstops = pd.read_csv(\"../../own_data/busstops_norway_with_count.csv\")\n",
    "age_dist = pd.read_csv(\"../../data/grunnkrets_age_distribution.csv\")\n",
    "households = pd.read_csv(\"../../data/grunnkrets_households_num_persons.csv\")\n",
    "income = pd.read_csv(\"../../data/grunnkrets_income_households.csv\")\n",
    "grunnkrets = pd.read_csv(\"../../data/grunnkrets_norway_stripped.csv\")\n",
    "plaace = pd.read_csv(\"../../data/plaace_hierarchy.csv\")\n",
    "\n"
   ]
  },
  {
   "cell_type": "code",
   "execution_count": 12,
   "metadata": {},
   "outputs": [],
   "source": [
    "grunnkrets.drop(columns=['grunnkrets_name', 'geometry'], inplace=True)"
   ]
  },
  {
   "cell_type": "code",
   "execution_count": 13,
   "metadata": {},
   "outputs": [],
   "source": [
    "grunnkrets = grunnkrets.sort_values(by=[\"grunnkrets_id\", \"year\"]).drop_duplicates(subset=[\"grunnkrets_id\"], keep='last')"
   ]
  },
  {
   "cell_type": "code",
   "execution_count": 14,
   "metadata": {},
   "outputs": [],
   "source": [
    "# remove 2015 data and year column\n",
    "households = households.sort_values(by=[\"grunnkrets_id\", \"year\"]).drop_duplicates(subset=[\"grunnkrets_id\"], keep='last')\n",
    "income = income.sort_values(by=[\"grunnkrets_id\", \"year\"]).drop_duplicates(subset=[\"grunnkrets_id\"], keep='last')\n",
    "age_dist = age_dist.sort_values(by=[\"grunnkrets_id\", \"year\"]).drop_duplicates(subset=[\"grunnkrets_id\"], keep='last')\n",
    "grunnkrets.drop(columns='year', inplace=True)\n",
    "households.drop(columns='year', inplace=True)\n",
    "income.drop(columns='year', inplace=True)\n",
    "age_dist.drop(columns='year', inplace=True)"
   ]
  },
  {
   "cell_type": "code",
   "execution_count": 15,
   "metadata": {},
   "outputs": [],
   "source": [
    "# set index to grunnkrets_id for merging\n",
    "households.set_index('grunnkrets_id', inplace=True)\n",
    "grunnkrets.set_index('grunnkrets_id', inplace=True)\n",
    "income.set_index('grunnkrets_id', inplace=True)\n",
    "age_dist.set_index('grunnkrets_id', inplace=True)"
   ]
  },
  {
   "cell_type": "code",
   "execution_count": 16,
   "metadata": {},
   "outputs": [],
   "source": [
    "busstops.drop(columns=['geometry', 'Unnamed: 0'], inplace=True)"
   ]
  },
  {
   "cell_type": "code",
   "execution_count": 17,
   "metadata": {},
   "outputs": [],
   "source": [
    "stores = stores.rename(columns={\"Unnamed: 0\": \"dataset\", \"Unnamed: 1\": \"range_index\"}).set_index([\"dataset\", \"range_index\"])\n",
    "stores.drop(columns='sales_channel_name', inplace=True)\n",
    "stores['copy_index'] = stores.index\n"
   ]
  },
  {
   "cell_type": "code",
   "execution_count": 18,
   "metadata": {},
   "outputs": [],
   "source": [
    "all_merged = stores.merge(grunnkrets, left_on='grunnkrets_id', right_index=True) \\\n",
    "                   .merge(households, left_on='grunnkrets_id', right_index=True, how=\"left\") \\\n",
    "                   .merge(income, left_on='grunnkrets_id', right_index=True, how=\"left\") \\\n",
    "                   .merge(age_dist, left_on='grunnkrets_id', right_index=True, how=\"left\") \\\n",
    "                   .merge(plaace, on='plaace_hierarchy_id') \\\n",
    "                   .merge(busstops, on='busstop_id')"
   ]
  },
  {
   "cell_type": "code",
   "execution_count": 19,
   "metadata": {},
   "outputs": [],
   "source": [
    "all_merged.index = pd.MultiIndex.from_tuples(\n",
    "    all_merged['copy_index'], \n",
    "    names=['dataset', 'range_index'])\n",
    "\n",
    "all_merged.drop(columns=['copy_index', 'year', 'plaace_hierarchy_id', 'sales_channel_name', 'lv1_desc', 'lv2_desc', 'lv3_desc', 'lv4_desc'], inplace=True)"
   ]
  },
  {
   "cell_type": "code",
   "execution_count": 20,
   "metadata": {},
   "outputs": [],
   "source": [
    "all_merged.to_csv(\"../../own_data/all_merged.csv\")"
   ]
  }
 ],
 "metadata": {
  "kernelspec": {
   "display_name": "Python 3.10.6 64-bit",
   "language": "python",
   "name": "python3"
  },
  "language_info": {
   "codemirror_mode": {
    "name": "ipython",
    "version": 3
   },
   "file_extension": ".py",
   "mimetype": "text/x-python",
   "name": "python",
   "nbconvert_exporter": "python",
   "pygments_lexer": "ipython3",
   "version": "3.10.6"
  },
  "orig_nbformat": 4,
  "vscode": {
   "interpreter": {
    "hash": "e7370f93d1d0cde622a1f8e1c04877d8463912d04d973331ad4851f04de6915a"
   }
  }
 },
 "nbformat": 4,
 "nbformat_minor": 2
}
