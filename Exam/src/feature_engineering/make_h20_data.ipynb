{
 "cells": [
  {
   "cell_type": "code",
   "execution_count": 15,
   "metadata": {},
   "outputs": [],
   "source": [
    "import pandas as pd\n",
    "import numpy as np\n",
    "from sklearn.model_selection import train_test_split"
   ]
  },
  {
   "cell_type": "code",
   "execution_count": 16,
   "metadata": {},
   "outputs": [],
   "source": [
    "df = pd.read_csv(\"../../own_data/all_merged.csv\").set_index([\"dataset\", \"range_index\"])\n",
    "df.drop(columns=['store_name', 'address', 'lat', 'lon', 'busstop_id', 'importance_level', 'stopplace_type', 'grunnkrets_id'], inplace=True)\n",
    "df['in_mall'] = df['mall_name'].notna()\n",
    "df['in_chain'] = df['chain_name'].notna()\n",
    "# df['stopplace_type'] = df['stopplace_type'].fillna(\"Mangler type\")\n",
    "df['mall_name'] = df['mall_name'].fillna(\"None\")\n",
    "#df['address'] = df['address'].fillna(\"None\")\n",
    "#df['stopplace_type'] = df['stopplace_type'].fillna(\"None\")\n",
    "\n",
    "df['chain_name'] = df['chain_name'].fillna(\"None\")\n",
    "# df['busstop_id'] = df['busstop_id'].map(str)\n",
    "df['lv1'] = df['lv1'].astype(str)\n",
    "df['lv2'] = df['lv2'].astype(str)\n",
    "df['lv3'] = df['lv3'].astype(str)\n",
    "df['lv4'] = df['lv4'].astype(str)\n",
    "\n",
    "# In order to avoid h2o interpreting the category as time...\n",
    "df['lv1'] = df['lv1'] + \"cat\"\n",
    "df['lv2'] = df['lv2'] + \"cat\"\n",
    "df['lv3'] = df['lv3'] + \"cat\"\n",
    "df['lv4'] = df['lv4'] + \"cat\"\n",
    "\n",
    "data_with_label = df.loc[\"train\"]\n",
    "data_with_label.set_index('store_id', inplace=True)\n",
    "\n",
    "X, y = data_with_label.loc[:, data_with_label.columns != 'revenue'], data_with_label['revenue']\n",
    "X_train, X_test, y_train, y_test = train_test_split(X, y, test_size=0.2, random_state=43)\n",
    "y_train_log = np.log1p(y_train)\n",
    "y_log = np.log1p(y)"
   ]
  },
  {
   "cell_type": "code",
   "execution_count": 17,
   "metadata": {},
   "outputs": [],
   "source": [
    "data_with_label.to_csv(\"../../own_data/all_merged_h2o.csv\")"
   ]
  },
  {
   "cell_type": "code",
   "execution_count": 27,
   "metadata": {},
   "outputs": [],
   "source": [
    "train = X_train.merge(y_train, on=\"store_id\")\n",
    "test = X_test.merge(y_test, on=\"store_id\")\n",
    "train_log = X_train.merge(y_train_log, on=\"store_id\")\n"
   ]
  },
  {
   "cell_type": "code",
   "execution_count": 28,
   "metadata": {},
   "outputs": [],
   "source": [
    "train.to_csv(\"../../own_data/train_h2o.csv\")\n",
    "test.to_csv(\"../../own_data/test_h2o.csv\")\n",
    "train_log.to_csv(\"../../own_data/train_log_h2o.csv\")"
   ]
  },
  {
   "cell_type": "code",
   "execution_count": null,
   "metadata": {},
   "outputs": [],
   "source": []
  }
 ],
 "metadata": {
  "kernelspec": {
   "display_name": "Python 3.9.13 ('tdt4173')",
   "language": "python",
   "name": "python3"
  },
  "language_info": {
   "codemirror_mode": {
    "name": "ipython",
    "version": 3
   },
   "file_extension": ".py",
   "mimetype": "text/x-python",
   "name": "python",
   "nbconvert_exporter": "python",
   "pygments_lexer": "ipython3",
   "version": "3.9.13"
  },
  "orig_nbformat": 4,
  "vscode": {
   "interpreter": {
    "hash": "e5db7439c91ba54018cb1b1292a57c3c1f7ef2342a4dd875977cc4adf8678235"
   }
  }
 },
 "nbformat": 4,
 "nbformat_minor": 2
}
