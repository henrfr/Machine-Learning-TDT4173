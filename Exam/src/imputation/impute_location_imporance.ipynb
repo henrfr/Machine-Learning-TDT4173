{
 "cells": [
  {
   "cell_type": "code",
   "execution_count": 1,
   "metadata": {},
   "outputs": [],
   "source": [
    "import pandas as pd\n",
    "from shapely.geometry import Point\n",
    "import geopandas as gpd\n",
    "import matplotlib.pyplot as plt\n",
    "import geoplot as gplt\n",
    "from shapely import wkt\n",
    "import numpy as np\n",
    "import seaborn as sns\n",
    "%matplotlib inline"
   ]
  },
  {
   "cell_type": "code",
   "execution_count": 3,
   "metadata": {},
   "outputs": [
    {
     "data": {
      "text/plain": [
       "grunnkrets_id\n",
       "1010105    1.810318\n",
       "1010107    0.966223\n",
       "1010204    3.680494\n",
       "1010206    2.489114\n",
       "1010209    1.086765\n",
       "Name: revenue, dtype: float64"
      ]
     },
     "execution_count": 3,
     "metadata": {},
     "output_type": "execute_result"
    }
   ],
   "source": [
    "stores = pd.read_csv(\"../../data/stores_train.csv\")\n",
    "\n",
    "avg_revenue_grunnkrets = stores.groupby(\"grunnkrets_id\")['revenue'].mean()\n",
    "avg_revenue_grunnkrets = np.log1p(avg_revenue_grunnkrets)\n",
    "\n",
    "count_stores_grunnkrets = stores.groupby(\"grunnkrets_id\")['store_id'].count()\n",
    "avg_revenue_grunnkrets.head()\n",
    "#count_stores_grunnkrets.sort_values().head()"
   ]
  },
  {
   "cell_type": "code",
   "execution_count": 4,
   "metadata": {},
   "outputs": [],
   "source": [
    "grunnkrets = pd.read_csv(\"../../data/grunnkrets_norway_stripped.csv\")\n",
    "grunnkrets.drop(grunnkrets[grunnkrets.year != 2016].index, inplace=True)\n",
    "grunnkrets = grunnkrets[['grunnkrets_id', 'geometry']]"
   ]
  },
  {
   "cell_type": "code",
   "execution_count": 5,
   "metadata": {},
   "outputs": [],
   "source": [
    "gk_count_mean = grunnkrets \\\n",
    "                 .merge(avg_revenue_grunnkrets, on='grunnkrets_id') \\\n",
    "                 .merge(count_stores_grunnkrets, on='grunnkrets_id')"
   ]
  },
  {
   "cell_type": "code",
   "execution_count": 6,
   "metadata": {},
   "outputs": [],
   "source": [
    "gk_count_mean.set_index('grunnkrets_id', inplace=True)"
   ]
  },
  {
   "cell_type": "code",
   "execution_count": 7,
   "metadata": {},
   "outputs": [],
   "source": [
    "gk_count_mean['geometry'] = gk_count_mean['geometry'].apply(wkt.loads)\n",
    "gdf = gpd.GeoDataFrame(gk_count_mean, geometry='geometry', crs=\"EPSG:4326\")"
   ]
  },
  {
   "cell_type": "code",
   "execution_count": 8,
   "metadata": {},
   "outputs": [],
   "source": [
    "#gdf = gdf.loc[gdf['store_id'] > 3]"
   ]
  },
  {
   "cell_type": "code",
   "execution_count": 9,
   "metadata": {},
   "outputs": [
    {
     "data": {
      "image/png": "[encoded data removed]",
      "text/plain": [
       "<Figure size 800x600 with 2 Axes>"
      ]
     },
     "metadata": {},
     "output_type": "display_data"
    }
   ],
   "source": [
    "# We can now plot our GeoDataFrame.\n",
    "gplt.choropleth(gdf, hue='revenue', projection=gplt.crs.AlbersEqualArea(),\n",
    "    linewidth=1,\n",
    "    cmap='RdYlGn', legend=True, legend_kwargs={'orientation': 'horizontal'})\n",
    "\n",
    "plt.savefig(\"../../figs/norway.pdf\", format=\"pdf\")\n",
    "plt.show()"
   ]
  },
  {
   "cell_type": "code",
   "execution_count": 5,
   "metadata": {},
   "outputs": [
    {
     "data": {
      "text/plain": [
       "<AxesSubplot:xlabel='lon', ylabel='lat'>"
      ]
     },
     "execution_count": 5,
     "metadata": {},
     "output_type": "execute_result"
    }
   ],
   "source": [
    "stores = pd.read_csv(\"../../data/stores.csv\")\n",
    "stores.revenue = np.log1p(stores.revenue)\n",
    "%matplotlib qt\n",
    "sns.scatterplot(x=stores.lon, y=stores.lat, hue=stores.revenue, s=10)"
   ]
  },
  {
   "cell_type": "code",
   "execution_count": null,
   "metadata": {},
   "outputs": [],
   "source": []
  }
 ],
 "metadata": {
  "kernelspec": {
   "display_name": "Python 3.9.13 ('tdt4173')",
   "language": "python",
   "name": "python3"
  },
  "language_info": {
   "codemirror_mode": {
    "name": "ipython",
    "version": 3
   },
   "file_extension": ".py",
   "mimetype": "text/x-python",
   "name": "python",
   "nbconvert_exporter": "python",
   "pygments_lexer": "ipython3",
   "version": "3.9.13"
  },
  "orig_nbformat": 4,
  "vscode": {
   "interpreter": {
    "hash": "9a1013845248e30736e18085f9632598af74800f63e4cdc02bac7c14c90f9e84"
   }
  }
 },
 "nbformat": 4,
 "nbformat_minor": 2
}
