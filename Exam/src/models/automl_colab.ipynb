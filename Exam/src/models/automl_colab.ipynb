{
  "cells": [
    {
      "cell_type": "code",
      "execution_count": 7,
      "metadata": {
        "colab": {
          "base_uri": "https://localhost:8080/"
        },
        "id": "YoEn-dFHlsZf",
        "outputId": "45d55a7f-b10d-467c-ab2d-f0e8eb9de41e"
      },
      "outputs": [
        {
          "name": "stdout",
          "output_type": "stream",
          "text": [
            "Reading package lists... Done\n",
            "Building dependency tree       \n",
            "Reading state information... Done\n",
            "default-jre is already the newest version (2:1.11-68ubuntu1~18.04.1).\n",
            "default-jre set to manually installed.\n",
            "The following package was automatically installed and is no longer required:\n",
            "  libnvidia-common-460\n",
            "Use 'apt autoremove' to remove it.\n",
            "0 upgraded, 0 newly installed, 0 to remove and 12 not upgraded.\n",
            "openjdk version \"11.0.16\" 2022-07-19\n",
            "OpenJDK Runtime Environment (build 11.0.16+8-post-Ubuntu-0ubuntu118.04)\n",
            "OpenJDK 64-Bit Server VM (build 11.0.16+8-post-Ubuntu-0ubuntu118.04, mixed mode, sharing)\n"
          ]
        }
      ],
      "source": [
        "! apt-get install default-jre\n",
        "!java -version"
      ]
    },
    {
      "cell_type": "code",
      "execution_count": 8,
      "metadata": {
        "colab": {
          "base_uri": "https://localhost:8080/"
        },
        "id": "wk6Vld3cwHMz",
        "outputId": "a43b5df5-840f-42b7-d3f4-1d80489ded49"
      },
      "outputs": [
        {
          "name": "stdout",
          "output_type": "stream",
          "text": [
            "Looking in indexes: https://pypi.org/simple, https://us-python.pkg.dev/colab-wheels/public/simple/\n",
            "Collecting h2o\n",
            "  Downloading h2o-3.38.0.1.tar.gz (177.2 MB)\n",
            "\u001b[K     |████████████████████████████████| 177.2 MB 43 kB/s \n",
            "\u001b[?25hRequirement already satisfied: requests in /usr/local/lib/python3.7/dist-packages (from h2o) (2.23.0)\n",
            "Requirement already satisfied: tabulate in /usr/local/lib/python3.7/dist-packages (from h2o) (0.8.10)\n",
            "Requirement already satisfied: future in /usr/local/lib/python3.7/dist-packages (from h2o) (0.16.0)\n",
            "Requirement already satisfied: chardet<4,>=3.0.2 in /usr/local/lib/python3.7/dist-packages (from requests->h2o) (3.0.4)\n",
            "Requirement already satisfied: certifi>=2017.4.17 in /usr/local/lib/python3.7/dist-packages (from requests->h2o) (2022.9.24)\n",
            "Requirement already satisfied: urllib3!=1.25.0,!=1.25.1,<1.26,>=1.21.1 in /usr/local/lib/python3.7/dist-packages (from requests->h2o) (1.24.3)\n",
            "Requirement already satisfied: idna<3,>=2.5 in /usr/local/lib/python3.7/dist-packages (from requests->h2o) (2.10)\n",
            "Building wheels for collected packages: h2o\n",
            "  Building wheel for h2o (setup.py) ... \u001b[?25l\u001b[?25hdone\n",
            "  Created wheel for h2o: filename=h2o-3.38.0.1-py2.py3-none-any.whl size=177276478 sha256=a971e4055f906e24c33f7770205afcbd022e057b308a542fe59fd4e999fe9559\n",
            "  Stored in directory: /root/.cache/pip/wheels/a1/a1/d9/bb37df368c4635a707e7362d1088450b606041f05aeba5f173\n",
            "Successfully built h2o\n",
            "Installing collected packages: h2o\n",
            "Successfully installed h2o-3.38.0.1\n"
          ]
        }
      ],
      "source": [
        "! pip install h2o"
      ]
    },
    {
      "cell_type": "code",
      "execution_count": 9,
      "metadata": {
        "id": "G2Vg0cBaid1C"
      },
      "outputs": [],
      "source": [
        "import h2o\n",
        "from h2o.automl import H2OAutoML\n",
        "from sklearn.model_selection import train_test_split\n",
        "import numpy as np\n",
        "import pandas as pd"
      ]
    },
    {
      "cell_type": "code",
      "execution_count": 10,
      "metadata": {
        "id": "CqseyzPJwVVI"
      },
      "outputs": [],
      "source": [
        "def rmsle(y_true, y_pred):\n",
        "    \"\"\"\n",
        "    Computes the Root Mean Squared Logarithmic Error \n",
        "    \n",
        "    Args:\n",
        "        y_true (np.array): n-dimensional vector of ground-truth values \n",
        "        y_pred (np.array): n-dimensional vecotr of predicted values \n",
        "    \n",
        "    Returns:\n",
        "        A scalar float with the rmsle value \n",
        "    \n",
        "    Note: You can alternatively use sklearn and just do: \n",
        "        `sklearn.metrics.mean_squared_log_error(y_true, y_pred) ** 0.5`\n",
        "    \"\"\"\n",
        "    y_pred[y_pred < 0] = 0\n",
        "    assert (y_true >= 0).all(), 'Received negative y_true values'\n",
        "    assert (y_pred >= 0).all(), 'Received negative y_pred values'\n",
        "    try:\n",
        "        assert y_true.shape == y_pred.shape, 'y_true and y_pred have different shapes'\n",
        "    except AssertionError:\n",
        "        print(f\"The shape of y_true is {y_true.shape}\")\n",
        "        print(f\"The shape of y_pred is {y_pred.shape}\")\n",
        "    y_true_log1p = np.log1p(y_true)  # log(1 + y_true)\n",
        "    y_pred_log1p = np.log1p(y_pred)  # log(1 + y_pred)\n",
        "    return np.sqrt(np.mean(np.square(y_pred_log1p - y_true_log1p)))"
      ]
    },
    {
      "cell_type": "code",
      "execution_count": 11,
      "metadata": {
        "colab": {
          "base_uri": "https://localhost:8080/",
          "height": 544
        },
        "id": "BO9S1D8Nid1G",
        "outputId": "f5ea5f54-e34d-427f-def0-7895e77cc3d4"
      },
      "outputs": [
        {
          "name": "stdout",
          "output_type": "stream",
          "text": [
            "Checking whether there is an H2O instance running at http://localhost:54321 ..... not found.\n",
            "Attempting to start a local H2O server...\n",
            "  Java Version: openjdk version \"11.0.16\" 2022-07-19; OpenJDK Runtime Environment (build 11.0.16+8-post-Ubuntu-0ubuntu118.04); OpenJDK 64-Bit Server VM (build 11.0.16+8-post-Ubuntu-0ubuntu118.04, mixed mode, sharing)\n",
            "  Starting server from /usr/local/lib/python3.7/dist-packages/h2o/backend/bin/h2o.jar\n",
            "  Ice root: /tmp/tmpe5r02z1o\n",
            "  JVM stdout: /tmp/tmpe5r02z1o/h2o_unknownUser_started_from_python.out\n",
            "  JVM stderr: /tmp/tmpe5r02z1o/h2o_unknownUser_started_from_python.err\n",
            "  Server is running at http://127.0.0.1:54321\n",
            "Connecting to H2O server at http://127.0.0.1:54321 ... successful.\n"
          ]
        },
        {
          "data": {
            "text/html": [
              "\n",
              "<style>\n",
              "\n",
              "#h2o-table-1.h2o-container {\n",
              "  overflow-x: auto;\n",
              "}\n",
              "#h2o-table-1 .h2o-table {\n",
              "  /* width: 100%; */\n",
              "  margin-top: 1em;\n",
              "  margin-bottom: 1em;\n",
              "}\n",
              "#h2o-table-1 .h2o-table caption {\n",
              "  white-space: nowrap;\n",
              "  caption-side: top;\n",
              "  text-align: left;\n",
              "  /* margin-left: 1em; */\n",
              "  margin: 0;\n",
              "  font-size: larger;\n",
              "}\n",
              "#h2o-table-1 .h2o-table thead {\n",
              "  white-space: nowrap; \n",
              "  position: sticky;\n",
              "  top: 0;\n",
              "  box-shadow: 0 -1px inset;\n",
              "}\n",
              "#h2o-table-1 .h2o-table tbody {\n",
              "  overflow: auto;\n",
              "}\n",
              "#h2o-table-1 .h2o-table th,\n",
              "#h2o-table-1 .h2o-table td {\n",
              "  text-align: right;\n",
              "  /* border: 1px solid; */\n",
              "}\n",
              "#h2o-table-1 .h2o-table tr:nth-child(even) {\n",
              "  /* background: #F5F5F5 */\n",
              "}\n",
              "\n",
              "</style>      \n",
              "<div id=\"h2o-table-1\" class=\"h2o-container\">\n",
              "  <table class=\"h2o-table\">\n",
              "    <caption></caption>\n",
              "    <thead></thead>\n",
              "    <tbody><tr><td>H2O_cluster_uptime:</td>\n",
              "<td>03 secs</td></tr>\n",
              "<tr><td>H2O_cluster_timezone:</td>\n",
              "<td>Etc/UTC</td></tr>\n",
              "<tr><td>H2O_data_parsing_timezone:</td>\n",
              "<td>UTC</td></tr>\n",
              "<tr><td>H2O_cluster_version:</td>\n",
              "<td>3.38.0.1</td></tr>\n",
              "<tr><td>H2O_cluster_version_age:</td>\n",
              "<td>21 days, 16 hours and 24 minutes </td></tr>\n",
              "<tr><td>H2O_cluster_name:</td>\n",
              "<td>H2O_from_python_unknownUser_c3ee3f</td></tr>\n",
              "<tr><td>H2O_cluster_total_nodes:</td>\n",
              "<td>1</td></tr>\n",
              "<tr><td>H2O_cluster_free_memory:</td>\n",
              "<td>3.172 Gb</td></tr>\n",
              "<tr><td>H2O_cluster_total_cores:</td>\n",
              "<td>2</td></tr>\n",
              "<tr><td>H2O_cluster_allowed_cores:</td>\n",
              "<td>2</td></tr>\n",
              "<tr><td>H2O_cluster_status:</td>\n",
              "<td>locked, healthy</td></tr>\n",
              "<tr><td>H2O_connection_url:</td>\n",
              "<td>http://127.0.0.1:54321</td></tr>\n",
              "<tr><td>H2O_connection_proxy:</td>\n",
              "<td>{\"http\": null, \"https\": null}</td></tr>\n",
              "<tr><td>H2O_internal_security:</td>\n",
              "<td>False</td></tr>\n",
              "<tr><td>Python_version:</td>\n",
              "<td>3.7.14 final</td></tr></tbody>\n",
              "  </table>\n",
              "</div>\n"
            ],
            "text/plain": [
              "--------------------------  ----------------------------------\n",
              "H2O_cluster_uptime:         03 secs\n",
              "H2O_cluster_timezone:       Etc/UTC\n",
              "H2O_data_parsing_timezone:  UTC\n",
              "H2O_cluster_version:        3.38.0.1\n",
              "H2O_cluster_version_age:    21 days, 16 hours and 24 minutes\n",
              "H2O_cluster_name:           H2O_from_python_unknownUser_c3ee3f\n",
              "H2O_cluster_total_nodes:    1\n",
              "H2O_cluster_free_memory:    3.172 Gb\n",
              "H2O_cluster_total_cores:    2\n",
              "H2O_cluster_allowed_cores:  2\n",
              "H2O_cluster_status:         locked, healthy\n",
              "H2O_connection_url:         http://127.0.0.1:54321\n",
              "H2O_connection_proxy:       {\"http\": null, \"https\": null}\n",
              "H2O_internal_security:      False\n",
              "Python_version:             3.7.14 final\n",
              "--------------------------  ----------------------------------"
            ]
          },
          "metadata": {},
          "output_type": "display_data"
        }
      ],
      "source": [
        "h2o.init()"
      ]
    },
    {
      "cell_type": "code",
      "execution_count": 13,
      "metadata": {
        "colab": {
          "base_uri": "https://localhost:8080/"
        },
        "id": "WQJ-w9bJid1H",
        "outputId": "af5d97d2-dd02-49d2-edbc-9de57133a72b"
      },
      "outputs": [
        {
          "name": "stdout",
          "output_type": "stream",
          "text": [
            "Parse progress: |████████████████████████████████████████████████████████████████| (done) 100%\n",
            "Parse progress: |████████████████████████████████████████████████████████████████| (done) 100%\n",
            "Parse progress: |████████████████████████████████████████████████████████████████| (done) 100%\n"
          ]
        }
      ],
      "source": [
        "train = h2o.import_file(\"https://raw.githubusercontent.com/haakonnese/tdt-4173-revenue/main/own_data/train_log_h2o.csv?token=GHSAT0AAAAAABYAXXBLTMZVWMS7JE7LBQWWY2FDURQ\")\n",
        "test = h2o.import_file(\"https://raw.githubusercontent.com/haakonnese/tdt-4173-revenue/main/own_data/test_h2o.csv?token=GHSAT0AAAAAABYAXXBKHGBLFGZPEWIXRFEQY2FDUGQ\")"
      ]
    },
    {
      "cell_type": "code",
      "execution_count": 15,
      "metadata": {
        "id": "z9rWq3Wzid1I"
      },
      "outputs": [],
      "source": [
        "pd_df = pd.read_csv(\"https://raw.githubusercontent.com/haakonnese/tdt-4173-revenue/main/own_data/all_merged_h2o.csv?token=GHSAT0AAAAAABYAXXBKG6V7JR3R5K5IG5IWY2FDT5A\")\n",
        "categorical_features = list(pd_df.select_dtypes(include=[np.object0]).columns)"
      ]
    },
    {
      "cell_type": "code",
      "execution_count": 16,
      "metadata": {
        "id": "MCYJ3xxAid1I"
      },
      "outputs": [],
      "source": [
        "train[categorical_features] = train[categorical_features].asfactor()\n",
        "test[categorical_features] = test[categorical_features].asfactor()"
      ]
    },
    {
      "cell_type": "code",
      "execution_count": 17,
      "metadata": {
        "id": "ugbxz_1mid1J"
      },
      "outputs": [],
      "source": [
        "y = \"revenue\"\n",
        "x = train.columns\n",
        "x.remove(y)"
      ]
    },
    {
      "cell_type": "code",
      "execution_count": null,
      "metadata": {
        "colab": {
          "base_uri": "https://localhost:8080/"
        },
        "id": "8TT_GwtXid1J",
        "outputId": "2e0cef34-cb18-4e30-b7cb-5282f62bd39e"
      },
      "outputs": [
        {
          "name": "stdout",
          "output_type": "stream",
          "text": [
            "AutoML progress: |███"
          ]
        }
      ],
      "source": [
        "aml = H2OAutoML(max_models=15, seed=1)\n",
        "aml.train(x = x, y = y, training_frame=train)"
      ]
    },
    {
      "cell_type": "code",
      "execution_count": null,
      "metadata": {
        "id": "xGw5fZFuid1K"
      },
      "outputs": [],
      "source": [
        "lb = aml.leaderboard"
      ]
    },
    {
      "cell_type": "code",
      "execution_count": null,
      "metadata": {
        "id": "G3pDkzkfid1L"
      },
      "outputs": [],
      "source": [
        "lb.head()"
      ]
    },
    {
      "cell_type": "code",
      "execution_count": null,
      "metadata": {
        "id": "ErF7HkWXid1L"
      },
      "outputs": [],
      "source": [
        "preds = aml.predict(test)\n",
        "preds = preds.as_data_frame()"
      ]
    },
    {
      "cell_type": "code",
      "execution_count": null,
      "metadata": {
        "id": "srZ_9KIrid1M"
      },
      "outputs": [],
      "source": [
        "preds = np.array(preds[\"predict\"])\n",
        "preds = np.expm1(preds)"
      ]
    },
    {
      "cell_type": "code",
      "execution_count": null,
      "metadata": {
        "id": "N0RiWPdXid1M"
      },
      "outputs": [],
      "source": [
        "true_revenue = test.as_data_frame().revenue\n",
        "rmsle(true_revenue, preds)"
      ]
    },
    {
      "cell_type": "code",
      "execution_count": null,
      "metadata": {
        "id": "Dq3Unpztid1N",
        "outputId": "3caf38cd-d2a1-4924-c7d7-8fb7c60fb77a"
      },
      "outputs": [
        {
          "data": {
            "text/html": [
              "<table>\n",
              "<thead>\n",
              "<tr><th style=\"text-align: right;\">  revenue</th></tr>\n",
              "</thead>\n",
              "<tbody>\n",
              "<tr><td style=\"text-align: right;\">    6.853</td></tr>\n",
              "<tr><td style=\"text-align: right;\">    1.733</td></tr>\n",
              "<tr><td style=\"text-align: right;\">    3.721</td></tr>\n",
              "<tr><td style=\"text-align: right;\">   50.238</td></tr>\n",
              "<tr><td style=\"text-align: right;\">    0.26 </td></tr>\n",
              "<tr><td style=\"text-align: right;\">    3.169</td></tr>\n",
              "<tr><td style=\"text-align: right;\">   16.69 </td></tr>\n",
              "<tr><td style=\"text-align: right;\">    5.417</td></tr>\n",
              "<tr><td style=\"text-align: right;\">    3.349</td></tr>\n",
              "<tr><td style=\"text-align: right;\">    4.389</td></tr>\n",
              "</tbody>\n",
              "</table>"
            ]
          },
          "metadata": {},
          "output_type": "display_data"
        },
        {
          "data": {
            "text/plain": []
          },
          "execution_count": 61,
          "metadata": {},
          "output_type": "execute_result"
        }
      ],
      "source": [
        "test[\"revenue\"]"
      ]
    },
    {
      "cell_type": "code",
      "execution_count": null,
      "metadata": {
        "id": "71ntj00Sid1N"
      },
      "outputs": [],
      "source": []
    }
  ],
  "metadata": {
    "colab": {
      "provenance": []
    },
    "kernelspec": {
      "display_name": "Python 3.10.8 64-bit (microsoft store)",
      "language": "python",
      "name": "python3"
    },
    "language_info": {
      "codemirror_mode": {
        "name": "ipython",
        "version": 3
      },
      "file_extension": ".py",
      "mimetype": "text/x-python",
      "name": "python",
      "nbconvert_exporter": "python",
      "pygments_lexer": "ipython3",
      "version": "3.10.8"
    },
    "orig_nbformat": 4,
    "vscode": {
      "interpreter": {
        "hash": "52328dc9b461b0ddd2028301e4e3e114526f1b2b0b3df76d42b6a40667f67a3e"
      }
    }
  },
  "nbformat": 4,
  "nbformat_minor": 0
}
