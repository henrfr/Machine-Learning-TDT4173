{
 "cells": [
  {
   "cell_type": "code",
   "execution_count": 3,
   "metadata": {},
   "outputs": [
    {
     "name": "stderr",
     "output_type": "stream",
     "text": [
      "c:\\Users\\haako\\Anaconda3\\envs\\tdt4173\\lib\\site-packages\\xgboost\\compat.py:36: FutureWarning: pandas.Int64Index is deprecated and will be removed from pandas in a future version. Use pandas.Index with the appropriate dtype instead.\n",
      "  from pandas import MultiIndex, Int64Index\n"
     ]
    }
   ],
   "source": [
    "import numpy as np\n",
    "import pandas as pd\n",
    "from sklearn.model_selection import train_test_split\n",
    "from sklearn.compose import ColumnTransformer\n",
    "from sklearn.pipeline import Pipeline\n",
    "from sklearn.preprocessing import OneHotEncoder, StandardScaler, LabelEncoder\n",
    "import torch\n",
    "from torch import nn\n",
    "import pytorch_lightning as pl\n",
    "from pytorch_lightning.callbacks.early_stopping import EarlyStopping\n",
    "from torch.utils.data import DataLoader, TensorDataset\n",
    "from torch.optim.lr_scheduler import ReduceLROnPlateau\n",
    "from sklearn.metrics import mean_absolute_error\n",
    "import matplotlib.pyplot as plt\n",
    "import seaborn as sns\n",
    "\n",
    "import numpy as np\n",
    "import pandas as pd\n",
    "from sklearn.ensemble import  StackingRegressor\n",
    "from sklearn.pipeline import Pipeline\n",
    "from sklearn.compose import ColumnTransformer\n",
    "from sklearn.impute import SimpleImputer\n",
    "from sklearn.preprocessing import StandardScaler, OneHotEncoder\n",
    "from catboost import CatBoostRegressor\n",
    "%matplotlib inline"
   ]
  },
  {
   "cell_type": "code",
   "execution_count": 4,
   "metadata": {},
   "outputs": [],
   "source": [
    "def rmsle(y_true, y_pred):\n",
    "    \"\"\"\n",
    "    Computes the Root Mean Squared Logarithmic Error \n",
    "    \n",
    "    Args:\n",
    "        y_true (np.array): n-dimensional vector of ground-truth values \n",
    "        y_pred (np.array): n-dimensional vecotr of predicted values \n",
    "    \n",
    "    Returns:\n",
    "        A scalar float with the rmsle value \n",
    "    \n",
    "    Note: You can alternatively use sklearn and just do: \n",
    "        `sklearn.metrics.mean_squared_log_error(y_true, y_pred) ** 0.5`\n",
    "    \"\"\"\n",
    "    y_pred[y_pred < 0] = 0\n",
    "    assert (y_true >= 0).all(), 'Received negative y_true values'\n",
    "    assert (y_pred >= 0).all(), 'Received negative y_pred values'\n",
    "    assert y_true.shape == y_pred.shape, 'y_true and y_pred have different shapes'\n",
    "    y_true_log1p = np.log1p(y_true)  # log(1 + y_true)\n",
    "    y_pred_log1p = np.log1p(y_pred)  # log(1 + y_pred)\n",
    "    return np.sqrt(np.mean(np.square(y_pred_log1p - y_true_log1p)))"
   ]
  },
  {
   "cell_type": "code",
   "execution_count": 7,
   "metadata": {},
   "outputs": [
    {
     "name": "stderr",
     "output_type": "stream",
     "text": [
      "C:\\Users\\haako\\AppData\\Local\\Temp\\ipykernel_11628\\4172826168.py:6: UserWarning: This pattern is interpreted as a regular expression, and has match groups. To actually get the groups, use str.extract.\n",
      "  all_data['as'] = all_data['store_name'].str.contains(r\"\\b(AS)\\b\", case=False, regex=True)\n"
     ]
    }
   ],
   "source": [
    "all_data = pd.read_csv(\"../../own_data/all_with_stores_pop.csv\")\n",
    "all_data.set_index([\"dataset\", \"range_index\"], inplace=True)\n",
    "all_data['in_mall'] = all_data['mall_name'].notna()\n",
    "all_data['in_chain'] = all_data['chain_name'].notna()\n",
    "all_data['mall_name'] = all_data['mall_name'].fillna(\"None\")\n",
    "all_data['as'] = all_data['store_name'].str.contains(r\"\\b(AS)\\b\", case=False, regex=True)\n",
    "all_data['chain_name'] = all_data['chain_name'].fillna(\"None\")\n",
    "all_data['busstop_id'] = all_data['busstop_id'].map(str)\n",
    "all_data['lv1'] = all_data['lv1'].map(str)\n",
    "all_data['lv2'] = all_data['lv2'].map(str)\n",
    "all_data['lv3'] = all_data['lv3'].map(str)\n",
    "all_data['lv4'] = all_data['lv4'].map(str)\n",
    "all_data.drop(columns=[\n",
    "  \n",
    "    'store_name',\n",
    "    'address',\n",
    "    'importance_level',\n",
    "    'busstop_id', \n",
    "    'other_stores_50', \n",
    "    'buss_stops_300', \n",
    "    'municipality_name', \n",
    "    'lv1', \n",
    "    'lat', \n",
    "    'couple_children_6_to_17_years', \n",
    "    'couple_without_children_x', \n",
    "    'single_parent_children_0_to_5_years', \n",
    "    'singles_x', \n",
    "    'singles_y', \n",
    "    'couple_without_children_y', \n",
    "    'couple_with_children', \n",
    "    'district_age_0-14_distribution', \n",
    "    'district_age_65-90_distribution', \n",
    "    'grunnkrets_population', \n",
    "    'municipality_density', \n",
    "    'all_households', \n",
    "    'lv2_population_district_div_count_stores', \n",
    "    'lv1_population_municipality_div_count_stores', \n",
    "    'lv2_population_municipality_div_count_stores', \n",
    "    'in_mall', \n",
    "    'lv3_population_district_div_count_stores', \n",
    "    'district_name', \n",
    "    'num_of_buss_stops_closer_that_1000_to_busstop', \n",
    "    'municipality_age_0-14_distribution', \n",
    "    'municipality_age_35-64_distribution', \n",
    "    'municipality_age_65-90_distribution', \n",
    "    ], inplace=True)\n",
    "\n",
    "data_with_label = all_data.loc[[\"train\"]]\n",
    "\n",
    "data_with_label.set_index('store_id', inplace=True)\n",
    "data_without_label = all_data.loc[['test']]\n",
    "data_without_label.set_index('store_id', inplace=True)\n",
    "data_without_label.drop(columns=[\"revenue\"], inplace=True)\n",
    "\n",
    "X, y = data_with_label.loc[:, data_with_label.columns != 'revenue'], data_with_label['revenue']\n",
    "\n",
    "data_train, data_test = train_test_split(data_with_label, test_size=0.2, random_state=42)\n",
    "\n",
    "X_train, y_train = data_train.loc[:, data_train.columns != 'revenue'], data_train['revenue']\n",
    "X_test, y_test = data_test.loc[:, data_test.columns != 'revenue'], data_test['revenue']\n",
    "y_train_scaled = np.log1p(y_train)\n",
    "y_test_scaled = np.log1p(y_test)\n",
    "\n",
    "# y_scaled = np.log1p(y)\n",
    "\n",
    "\n",
    "# Comment in this when testing on test dataset to kaggle\n",
    "# X_train = X\n",
    "# y_train = y\n",
    "# y_train_scaled = y_scaled\n",
    "# X_test = data_without_label"
   ]
  },
  {
   "cell_type": "code",
   "execution_count": 8,
   "metadata": {},
   "outputs": [
    {
     "name": "stdout",
     "output_type": "stream",
     "text": [
      "['grunnkrets_id', 'lon', 'other_stores_1000', 'other_stores_100', 'other_stores_250', 'buss_stops_1000', 'grunnkrets_1', 'distance_closest_busstop', 'area_km2', 'couple_children_0_to_5_years', 'couple_children_18_or_above', 'single_parent_children_18_or_above', 'single_parent_children_6_to_17_years', 'other_households', 'single_parent_with_children', 'district_age_15-34_distribution', 'district_age_35-64_distribution', 'municipality_age_15-34_distribution', 'district_population', 'municipality_population', 'district_area', 'municipality_area', 'district_density', 'lv1_population_district_div_count_stores', 'lv4_population_district_div_count_stores', 'lv3_population_municipality_div_count_stores', 'lv4_population_municipality_div_count_stores']\n",
      "(10263, 998)\n"
     ]
    }
   ],
   "source": [
    "numeric_features = X_train.select_dtypes(include=[np.number]).columns\n",
    "numeric_features = list(numeric_features.to_numpy())\n",
    "\n",
    "print(numeric_features)\n",
    "\n",
    "numeric_transformer = Pipeline(\n",
    "    steps=[\n",
    "        (\"imputer\", SimpleImputer(strategy=\"median\")),\n",
    "        (\"scaler\", StandardScaler())]\n",
    ")\n",
    "\n",
    "categorical_features = X_train.select_dtypes(include=[np.object0]).columns\n",
    "categorical_transformer = Pipeline(\n",
    "    steps=[\n",
    "        (\"imputer\", SimpleImputer(fill_value=\"missing\", strategy=\"constant\")),\n",
    "        (\"onehotencoding\", OneHotEncoder(handle_unknown=\"ignore\"))\n",
    "    ]\n",
    ")\n",
    "\n",
    "\n",
    "preprocessor = ColumnTransformer(\n",
    "    transformers=[\n",
    "        (\"num\", numeric_transformer, numeric_features),\n",
    "        (\"cat\", categorical_transformer, categorical_features),\n",
    "    ],\n",
    "    remainder=\"passthrough\",\n",
    ")\n",
    "\n",
    "categorical_features_include_bool = list(categorical_features.to_numpy())\n",
    "categorical_features_include_bool.extend(list(X.select_dtypes(include=[np.bool8]).columns.to_numpy()))\n",
    "# categorical_transformer_ordinal = OrdinalEncoder(handle_unknown=\"use_encoded_value\", unknown_value=np.nan)\n",
    "# preprocessor_ordinal = ColumnTransformer(\n",
    "#     transformers=[\n",
    "#         (\"num\", numeric_transformer, numeric_features),\n",
    "#         (\"cat\", categorical_transformer_ordinal, categorical_features_include_bool)\n",
    "#     ],\n",
    "#     remainder=\"passthrough\",\n",
    "# )\n",
    "\n",
    "X_train_ft = preprocessor.fit_transform(X_train)\n",
    "X_test_ft = preprocessor.transform(X_test)\n",
    "# X_val_ft = preprocessor.transform(X_val)\n",
    "\n",
    "print(X_train_ft.shape)"
   ]
  },
  {
   "cell_type": "code",
   "execution_count": 9,
   "metadata": {},
   "outputs": [],
   "source": [
    "from sklearn.ensemble import ExtraTreesRegressor\n",
    "from sklearn.feature_selection import SelectFromModel\n",
    "\n",
    "\n",
    "extra_trees = ExtraTreesRegressor(\n",
    "    bootstrap=False,\n",
    "    criterion='squared_error',\n",
    "    max_depth=None, \n",
    "    max_features=0.76315, \n",
    "    max_leaf_nodes=None, \n",
    "    min_samples_leaf=2,\n",
    "    min_samples_split=2, \n",
    "    min_weight_fraction_leaf=0, \n",
    "    n_estimators=100 \n",
    "    )\n",
    "extra_trees = extra_trees.fit(X_train_ft, y_train_scaled)\n"
   ]
  },
  {
   "cell_type": "code",
   "execution_count": 10,
   "metadata": {},
   "outputs": [
    {
     "name": "stdout",
     "output_type": "stream",
     "text": [
      "(10263, 500)\n"
     ]
    }
   ],
   "source": [
    "select = SelectFromModel(extra_trees, prefit=True, threshold=-np.inf, max_features=500)\n",
    "X_train_fts = select.transform(X_train_ft)\n",
    "# X_val_fts = select.transform(X_val_ft)\n",
    "X_test_fts = select.transform(X_test_ft)\n",
    "print(X_train_fts.shape)\n"
   ]
  },
  {
   "cell_type": "code",
   "execution_count": 11,
   "metadata": {},
   "outputs": [],
   "source": [
    "X_train_ftsr = pd.DataFrame(X_train_fts.toarray())\n",
    "# X_val_ftsr = pd.DataFrame(X_val_fts.toarray())\n",
    "\n",
    "X_test_ftsr = pd.DataFrame(X_test_fts.toarray())\n",
    "\n",
    "categories = X_train_ftsr.columns.tolist()"
   ]
  },
  {
   "cell_type": "code",
   "execution_count": 12,
   "metadata": {},
   "outputs": [],
   "source": [
    "class RMSLELoss(nn.Module):\n",
    "    def __init__(self):\n",
    "        super().__init__()\n",
    "        self.mse = nn.MSELoss()\n",
    "        \n",
    "    def forward(self, pred, actual):\n",
    "        pred[pred < 0] = 0\n",
    "        return torch.sqrt(self.mse(torch.log(pred + 1), torch.log(actual + 1)))\n",
    "\n",
    "class SoftOrdering1DCNN(pl.LightningModule):\n",
    "\n",
    "    def __init__(self, input_dim, output_dim, sign_size=32, cha_input=16, cha_hidden=32, \n",
    "                 K=2, dropout_input=0.2, dropout_hidden=0.2, dropout_output=0.2):\n",
    "        super().__init__()\n",
    "\n",
    "        hidden_size = sign_size*cha_input\n",
    "        sign_size1 = sign_size\n",
    "        sign_size2 = sign_size//2\n",
    "        output_size = (sign_size//4) * cha_hidden\n",
    "\n",
    "        self.hidden_size = hidden_size\n",
    "        self.cha_input = cha_input\n",
    "        self.cha_hidden = cha_hidden\n",
    "        self.K = K\n",
    "        self.sign_size1 = sign_size1\n",
    "        self.sign_size2 = sign_size2\n",
    "        self.output_size = output_size\n",
    "        self.dropout_input = dropout_input\n",
    "        self.dropout_hidden = dropout_hidden\n",
    "        self.dropout_output = dropout_output\n",
    "\n",
    "        self.batch_norm1 = nn.BatchNorm1d(input_dim)\n",
    "        self.dropout1 = nn.Dropout(dropout_input)\n",
    "        dense1 = nn.Linear(input_dim, hidden_size, bias=False)\n",
    "        self.dense1 = nn.utils.weight_norm(dense1)\n",
    "\n",
    "        # 1st conv layer\n",
    "        self.batch_norm_c1 = nn.BatchNorm1d(cha_input)\n",
    "        conv1 = conv1 = nn.Conv1d(\n",
    "            cha_input, \n",
    "            cha_input*K, \n",
    "            kernel_size=5, \n",
    "            stride = 1, \n",
    "            padding=2,  \n",
    "            groups=cha_input, \n",
    "            bias=False)\n",
    "        self.conv1 = nn.utils.weight_norm(conv1, dim=None)\n",
    "        self.ave_po_c1 = nn.AdaptiveAvgPool1d(output_size = sign_size2)\n",
    "\n",
    "        # 2nd conv layer\n",
    "        self.batch_norm_c2 = []\n",
    "        self.dropout_c2 = []\n",
    "        self.conv2 = []\n",
    "        for i in range(0):\n",
    "            self.batch_norm_c2.append(nn.BatchNorm1d(cha_input*K))\n",
    "            self.dropout_c2.append(nn.Dropout(dropout_hidden))\n",
    "            conv2 = nn.Conv1d(\n",
    "                cha_input*K, \n",
    "                cha_hidden, \n",
    "                kernel_size=3, \n",
    "                stride=1, \n",
    "                padding=1, \n",
    "                bias=False)\n",
    "            self.conv2.append(nn.utils.weight_norm(conv2, dim=None))    \n",
    "        \n",
    "\n",
    "        # 3rd conv layer\n",
    "        self.batch_norm_c3 = nn.BatchNorm1d(cha_hidden)\n",
    "        self.dropout_c3 = nn.Dropout(dropout_hidden)\n",
    "        conv3 = nn.Conv1d(\n",
    "            cha_hidden, \n",
    "            cha_hidden, \n",
    "            kernel_size=3, \n",
    "            stride=1, \n",
    "            padding=1, \n",
    "            bias=False)\n",
    "        self.conv3 = nn.utils.weight_norm(conv3, dim=None)\n",
    "        \n",
    "\n",
    "        # 4th conv layer\n",
    "        self.batch_norm_c4 = nn.BatchNorm1d(cha_hidden)\n",
    "        conv4 = nn.Conv1d(\n",
    "            cha_hidden, \n",
    "            cha_hidden, \n",
    "            kernel_size=5, \n",
    "            stride=1, \n",
    "            padding=2, \n",
    "            groups=cha_hidden, \n",
    "            bias=False)\n",
    "        self.conv4 = nn.utils.weight_norm(conv4, dim=None)\n",
    "\n",
    "        self.avg_po_c4 = nn.AvgPool1d(kernel_size=4, stride=2, padding=1)\n",
    "\n",
    "        self.flt = nn.Flatten()\n",
    "\n",
    "        self.batch_norm2 = nn.BatchNorm1d(output_size)\n",
    "        self.dropout2 = nn.Dropout(dropout_output)\n",
    "        dense2 = nn.Linear(output_size, output_dim, bias=False)\n",
    "        self.dense2 = nn.utils.weight_norm(dense2)\n",
    "\n",
    "        self.loss = nn.MSELoss()\n",
    "\n",
    "    def forward(self, x):\n",
    "        x = self.batch_norm1(x)\n",
    "        x = self.dropout1(x)\n",
    "        x = nn.functional.celu(self.dense1(x))\n",
    "\n",
    "        x = x.reshape(x.shape[0], self.cha_input, self.sign_size1)\n",
    "\n",
    "        x = self.batch_norm_c1(x)\n",
    "        x = nn.functional.relu(self.conv1(x))\n",
    "\n",
    "        x = self.ave_po_c1(x)\n",
    "\n",
    "        for i in range(0):\n",
    "            x = self.batch_norm_c2[i](x)\n",
    "            x = self.dropout_c2[i](x)\n",
    "            x = nn.functional.relu(self.conv2[i](x))\n",
    "            x_s = x\n",
    "\n",
    "\n",
    "        x = self.batch_norm_c3(x)\n",
    "        x = self.dropout_c3(x)\n",
    "        x = nn.functional.relu(self.conv3(x))\n",
    "        x_s = x\n",
    "\n",
    "\n",
    "        x = self.batch_norm_c4(x)\n",
    "        x = self.conv4(x)\n",
    "        x =  x + x_s\n",
    "        x = nn.functional.relu(x)\n",
    "\n",
    "        x = self.avg_po_c4(x)\n",
    "\n",
    "        x = self.flt(x)\n",
    "\n",
    "        x = self.batch_norm2(x)\n",
    "        x = self.dropout2(x)\n",
    "        x = self.dense2(x)\n",
    "\n",
    "        return x\n",
    "\n",
    "    def training_step(self, batch, batch_idx):\n",
    "        X, y = batch\n",
    "        y_hat = self.forward(X)\n",
    "        loss = self.loss(y_hat, y)\n",
    "        self.log('train_loss', loss)\n",
    "        return loss\n",
    "    \n",
    "    def validation_step(self, batch, batch_idx):\n",
    "        X, y = batch\n",
    "        y_hat = self.forward(X)\n",
    "        loss = self.loss(y_hat, y)\n",
    "        self.log('valid_loss', loss)\n",
    "        \n",
    "    def test_step(self, batch, batch_idx):\n",
    "        X, y = batch\n",
    "        y_logit = self.forward(X)\n",
    "        y_probs = torch.sigmoid(y_logit).detach().cpu().numpy()\n",
    "        loss = self.loss(y_logit, y)\n",
    "        metric = rmsle(y.cpu().numpy(), y_probs)\n",
    "        self.log('test_loss', loss)\n",
    "        self.log('test_metric', metric)\n",
    "        \n",
    "    def configure_optimizers(self):\n",
    "        optimizer = torch.optim.SGD(self.parameters(), lr=1e-2, momentum=0.9)\n",
    "        scheduler = {\n",
    "            'scheduler': ReduceLROnPlateau(\n",
    "                optimizer, \n",
    "                mode=\"min\", \n",
    "                factor=0.5, \n",
    "                patience=5, \n",
    "                min_lr=1e-5),\n",
    "            'interval': 'epoch',\n",
    "            'frequency': 1,\n",
    "            'reduce_on_plateau': True,\n",
    "            'monitor': 'valid_loss',\n",
    "        }\n",
    "        return [optimizer], [scheduler]"
   ]
  },
  {
   "cell_type": "code",
   "execution_count": 13,
   "metadata": {},
   "outputs": [
    {
     "name": "stderr",
     "output_type": "stream",
     "text": [
      "GPU available: False, used: False\n",
      "TPU available: False, using: 0 TPU cores\n",
      "IPU available: False, using: 0 IPUs\n",
      "HPU available: False, using: 0 HPUs\n"
     ]
    }
   ],
   "source": [
    "model = SoftOrdering1DCNN(\n",
    "    input_dim=X_test_ftsr.shape[1], \n",
    "    output_dim=1, \n",
    "    sign_size=4, \n",
    "    cha_input=16, \n",
    "    cha_hidden=32, \n",
    "    K=2, \n",
    "    dropout_input=0.2, \n",
    "    dropout_hidden=0., \n",
    "    dropout_output=0\n",
    ")\n",
    "early_stop_callback = EarlyStopping(\n",
    "   monitor='valid_loss',\n",
    "   min_delta=.0,\n",
    "   patience=21,\n",
    "   verbose=True,\n",
    "   mode='min'\n",
    ")\n",
    "\n",
    "trainer = pl.Trainer(callbacks=[early_stop_callback], min_epochs=1, max_epochs=25)"
   ]
  },
  {
   "cell_type": "code",
   "execution_count": 14,
   "metadata": {},
   "outputs": [
    {
     "name": "stdout",
     "output_type": "stream",
     "text": [
      "(10263, 500) (10263, 1)\n"
     ]
    }
   ],
   "source": [
    "print(X_train_ftsr[categories].values.shape, y_train_scaled.values.reshape(-1,1).shape)\n",
    "train_tensor_dset = TensorDataset(\n",
    "    torch.tensor(X_train_ftsr[categories].values, dtype=torch.float),\n",
    "    torch.tensor(y_train_scaled.values.reshape(-1,1), dtype=torch.float)\n",
    ")\n",
    "val_tensor_dset = TensorDataset(\n",
    "    torch.tensor(X_test_ftsr[categories].values, dtype=torch.float),\n",
    "    torch.tensor(y_test_scaled.values.reshape(-1,1), dtype=torch.float) \n",
    ")\n",
    "# val_tensor =  torch.tensor(X_val_ftsr[categories].values, dtype=torch.float)\n",
    "# test_tensor_dset = torch.tensor(X_test_ftsr[categories].values, dtype=torch.float)\n",
    "    #torch.tensor(y_test.values.reshape(-1,1), dtype=torch.float) "
   ]
  },
  {
   "cell_type": "code",
   "execution_count": 15,
   "metadata": {},
   "outputs": [
    {
     "name": "stderr",
     "output_type": "stream",
     "text": [
      "\n",
      "   | Name          | Type              | Params\n",
      "-----------------------------------------------------\n",
      "0  | batch_norm1   | BatchNorm1d       | 1.0 K \n",
      "1  | dropout1      | Dropout           | 0     \n",
      "2  | dense1        | Linear            | 32.1 K\n",
      "3  | batch_norm_c1 | BatchNorm1d       | 32    \n",
      "4  | conv1         | Conv1d            | 161   \n",
      "5  | ave_po_c1     | AdaptiveAvgPool1d | 0     \n",
      "6  | batch_norm_c3 | BatchNorm1d       | 64    \n",
      "7  | dropout_c3    | Dropout           | 0     \n",
      "8  | conv3         | Conv1d            | 3.1 K \n",
      "9  | batch_norm_c4 | BatchNorm1d       | 64    \n",
      "10 | conv4         | Conv1d            | 161   \n",
      "11 | avg_po_c4     | AvgPool1d         | 0     \n",
      "12 | flt           | Flatten           | 0     \n",
      "13 | batch_norm2   | BatchNorm1d       | 64    \n",
      "14 | dropout2      | Dropout           | 0     \n",
      "15 | dense2        | Linear            | 33    \n",
      "16 | loss          | MSELoss           | 0     \n",
      "-----------------------------------------------------\n",
      "36.7 K    Trainable params\n",
      "0         Non-trainable params\n",
      "36.7 K    Total params\n",
      "0.147     Total estimated model params size (MB)\n"
     ]
    },
    {
     "data": {
      "application/vnd.jupyter.widget-view+json": {
       "model_id": "86822422b808408980213bc2dc5c7fed",
       "version_major": 2,
       "version_minor": 0
      },
      "text/plain": [
       "Sanity Checking: 0it [00:00, ?it/s]"
      ]
     },
     "metadata": {},
     "output_type": "display_data"
    },
    {
     "data": {
      "application/vnd.jupyter.widget-view+json": {
       "model_id": "34ae4a7179c448feab17bb51c98347ed",
       "version_major": 2,
       "version_minor": 0
      },
      "text/plain": [
       "Training: 0it [00:00, ?it/s]"
      ]
     },
     "metadata": {},
     "output_type": "display_data"
    },
    {
     "data": {
      "application/vnd.jupyter.widget-view+json": {
       "model_id": "43b8bc41a9164c92807b45d5c07d4c5a",
       "version_major": 2,
       "version_minor": 0
      },
      "text/plain": [
       "Validation: 0it [00:00, ?it/s]"
      ]
     },
     "metadata": {},
     "output_type": "display_data"
    },
    {
     "name": "stderr",
     "output_type": "stream",
     "text": [
      "Metric valid_loss improved. New best score: 0.656\n"
     ]
    },
    {
     "data": {
      "application/vnd.jupyter.widget-view+json": {
       "model_id": "536d8b125c2d48bf948424e4ba8e0e74",
       "version_major": 2,
       "version_minor": 0
      },
      "text/plain": [
       "Validation: 0it [00:00, ?it/s]"
      ]
     },
     "metadata": {},
     "output_type": "display_data"
    },
    {
     "data": {
      "application/vnd.jupyter.widget-view+json": {
       "model_id": "ef8b9bed76cb4b43bb545df996bd77b6",
       "version_major": 2,
       "version_minor": 0
      },
      "text/plain": [
       "Validation: 0it [00:00, ?it/s]"
      ]
     },
     "metadata": {},
     "output_type": "display_data"
    },
    {
     "data": {
      "application/vnd.jupyter.widget-view+json": {
       "model_id": "14cc144dbf4946a59da4b82dbcd1ab4b",
       "version_major": 2,
       "version_minor": 0
      },
      "text/plain": [
       "Validation: 0it [00:00, ?it/s]"
      ]
     },
     "metadata": {},
     "output_type": "display_data"
    },
    {
     "data": {
      "application/vnd.jupyter.widget-view+json": {
       "model_id": "0a8bcffef3df464abfd80bbe92d8cfb1",
       "version_major": 2,
       "version_minor": 0
      },
      "text/plain": [
       "Validation: 0it [00:00, ?it/s]"
      ]
     },
     "metadata": {},
     "output_type": "display_data"
    },
    {
     "data": {
      "application/vnd.jupyter.widget-view+json": {
       "model_id": "1a51b3e13e194555b21a61fba5b4f79b",
       "version_major": 2,
       "version_minor": 0
      },
      "text/plain": [
       "Validation: 0it [00:00, ?it/s]"
      ]
     },
     "metadata": {},
     "output_type": "display_data"
    },
    {
     "data": {
      "application/vnd.jupyter.widget-view+json": {
       "model_id": "2563d7b6ce6e432eae7be2f5a63ab5c2",
       "version_major": 2,
       "version_minor": 0
      },
      "text/plain": [
       "Validation: 0it [00:00, ?it/s]"
      ]
     },
     "metadata": {},
     "output_type": "display_data"
    },
    {
     "data": {
      "application/vnd.jupyter.widget-view+json": {
       "model_id": "6ccd2282ef50446c88a8f3738b60a630",
       "version_major": 2,
       "version_minor": 0
      },
      "text/plain": [
       "Validation: 0it [00:00, ?it/s]"
      ]
     },
     "metadata": {},
     "output_type": "display_data"
    },
    {
     "data": {
      "application/vnd.jupyter.widget-view+json": {
       "model_id": "498f6a209daf414bacb60a84d9a165ce",
       "version_major": 2,
       "version_minor": 0
      },
      "text/plain": [
       "Validation: 0it [00:00, ?it/s]"
      ]
     },
     "metadata": {},
     "output_type": "display_data"
    },
    {
     "data": {
      "application/vnd.jupyter.widget-view+json": {
       "model_id": "5f1a178df85a4d6c8c9facabccac815a",
       "version_major": 2,
       "version_minor": 0
      },
      "text/plain": [
       "Validation: 0it [00:00, ?it/s]"
      ]
     },
     "metadata": {},
     "output_type": "display_data"
    },
    {
     "data": {
      "application/vnd.jupyter.widget-view+json": {
       "model_id": "7b96a47a1e5143c296cfe4a0778560ca",
       "version_major": 2,
       "version_minor": 0
      },
      "text/plain": [
       "Validation: 0it [00:00, ?it/s]"
      ]
     },
     "metadata": {},
     "output_type": "display_data"
    },
    {
     "data": {
      "application/vnd.jupyter.widget-view+json": {
       "model_id": "e959c40e20bf48f1bd61063ab31ffdb9",
       "version_major": 2,
       "version_minor": 0
      },
      "text/plain": [
       "Validation: 0it [00:00, ?it/s]"
      ]
     },
     "metadata": {},
     "output_type": "display_data"
    },
    {
     "data": {
      "application/vnd.jupyter.widget-view+json": {
       "model_id": "db43de31e08442b4a8b70c890d7b7631",
       "version_major": 2,
       "version_minor": 0
      },
      "text/plain": [
       "Validation: 0it [00:00, ?it/s]"
      ]
     },
     "metadata": {},
     "output_type": "display_data"
    },
    {
     "data": {
      "application/vnd.jupyter.widget-view+json": {
       "model_id": "37b3917da6b94665abbd5c7c689fdbcd",
       "version_major": 2,
       "version_minor": 0
      },
      "text/plain": [
       "Validation: 0it [00:00, ?it/s]"
      ]
     },
     "metadata": {},
     "output_type": "display_data"
    },
    {
     "data": {
      "application/vnd.jupyter.widget-view+json": {
       "model_id": "437bc7e21f41479db0914503fae559dc",
       "version_major": 2,
       "version_minor": 0
      },
      "text/plain": [
       "Validation: 0it [00:00, ?it/s]"
      ]
     },
     "metadata": {},
     "output_type": "display_data"
    },
    {
     "data": {
      "application/vnd.jupyter.widget-view+json": {
       "model_id": "57fad0eaec5a4e3b99ce41fa53dddcaf",
       "version_major": 2,
       "version_minor": 0
      },
      "text/plain": [
       "Validation: 0it [00:00, ?it/s]"
      ]
     },
     "metadata": {},
     "output_type": "display_data"
    },
    {
     "data": {
      "application/vnd.jupyter.widget-view+json": {
       "model_id": "56935f3ed28e47458339cfd95242270a",
       "version_major": 2,
       "version_minor": 0
      },
      "text/plain": [
       "Validation: 0it [00:00, ?it/s]"
      ]
     },
     "metadata": {},
     "output_type": "display_data"
    },
    {
     "data": {
      "application/vnd.jupyter.widget-view+json": {
       "model_id": "861fea80ba3d4c7ea132bd836181b0a7",
       "version_major": 2,
       "version_minor": 0
      },
      "text/plain": [
       "Validation: 0it [00:00, ?it/s]"
      ]
     },
     "metadata": {},
     "output_type": "display_data"
    },
    {
     "data": {
      "application/vnd.jupyter.widget-view+json": {
       "model_id": "32dca657bfcc452f9137bf6e5263e517",
       "version_major": 2,
       "version_minor": 0
      },
      "text/plain": [
       "Validation: 0it [00:00, ?it/s]"
      ]
     },
     "metadata": {},
     "output_type": "display_data"
    },
    {
     "data": {
      "application/vnd.jupyter.widget-view+json": {
       "model_id": "c091fcd2b5894194aad57b289891dc93",
       "version_major": 2,
       "version_minor": 0
      },
      "text/plain": [
       "Validation: 0it [00:00, ?it/s]"
      ]
     },
     "metadata": {},
     "output_type": "display_data"
    },
    {
     "data": {
      "application/vnd.jupyter.widget-view+json": {
       "model_id": "3bad690aad614817bf1819e62749fc70",
       "version_major": 2,
       "version_minor": 0
      },
      "text/plain": [
       "Validation: 0it [00:00, ?it/s]"
      ]
     },
     "metadata": {},
     "output_type": "display_data"
    },
    {
     "data": {
      "application/vnd.jupyter.widget-view+json": {
       "model_id": "e7573a54eccd429b9d6265330be2714b",
       "version_major": 2,
       "version_minor": 0
      },
      "text/plain": [
       "Validation: 0it [00:00, ?it/s]"
      ]
     },
     "metadata": {},
     "output_type": "display_data"
    },
    {
     "name": "stderr",
     "output_type": "stream",
     "text": [
      "Monitored metric valid_loss did not improve in the last 21 records. Best score: 0.656. Signaling Trainer to stop.\n"
     ]
    }
   ],
   "source": [
    "trainer.fit(\n",
    "    model, \n",
    "    DataLoader(train_tensor_dset, batch_size=64, shuffle=True, num_workers=4),\n",
    "    DataLoader(val_tensor_dset, batch_size=64, shuffle=False, num_workers=4)\n",
    ")"
   ]
  },
  {
   "cell_type": "code",
   "execution_count": 59,
   "metadata": {},
   "outputs": [
    {
     "data": {
      "application/vnd.jupyter.widget-view+json": {
       "model_id": "f82c8f7e95f0416eace57bcd64d47742",
       "version_major": 2,
       "version_minor": 0
      },
      "text/plain": [
       "Predicting: 0it [00:00, ?it/s]"
      ]
     },
     "metadata": {},
     "output_type": "display_data"
    },
    {
     "name": "stdout",
     "output_type": "stream",
     "text": [
      "0.8367676700585218\n"
     ]
    }
   ],
   "source": [
    "# y_hat = model(dataloaders=DataLoader(test_tensor_dset, batch_size=y_test.shape[0], shuffle=False, num_workers=4))\n",
    "y_hat = trainer.predict(model, dataloaders=DataLoader(test_tensor_dset, batch_size=64, shuffle=False, num_workers=4))\n",
    "print(rmsle(y_test, np.expm1(torch.cat(y_hat, 0).numpy().reshape(-1))))\n",
    "\n"
   ]
  },
  {
   "cell_type": "code",
   "execution_count": 55,
   "metadata": {},
   "outputs": [
    {
     "data": {
      "application/vnd.jupyter.widget-view+json": {
       "model_id": "bba80fd8052b480285c326e6fc6106ee",
       "version_major": 2,
       "version_minor": 0
      },
      "text/plain": [
       "Predicting: 0it [00:00, ?it/s]"
      ]
     },
     "metadata": {},
     "output_type": "display_data"
    },
    {
     "name": "stdout",
     "output_type": "stream",
     "text": [
      "0.8825786976846948\n"
     ]
    }
   ],
   "source": [
    "y_hat = trainer.predict(model, dataloaders=DataLoader(val_tensor, batch_size=64, shuffle=False, num_workers=4))\n",
    "print(rmsle(y_val, np.expm1(torch.cat(y_hat, 0).numpy().reshape(-1))))\n",
    "\n"
   ]
  },
  {
   "cell_type": "code",
   "execution_count": 132,
   "metadata": {},
   "outputs": [
    {
     "ename": "AssertionError",
     "evalue": "y_true and y_pred have different shapes",
     "output_type": "error",
     "traceback": [
      "\u001b[1;31m---------------------------------------------------------------------------\u001b[0m",
      "\u001b[1;31mAssertionError\u001b[0m                            Traceback (most recent call last)",
      "\u001b[1;32mc:\\Users\\haako\\Documents\\_NTNU\\_2022Host\\TDT4173-machine-learning\\tdt-4173-revenue\\src\\models\\conv_network.ipynb Cell 16\u001b[0m in \u001b[0;36m<cell line: 1>\u001b[1;34m()\u001b[0m\n\u001b[1;32m----> <a href='vscode-notebook-cell:/c%3A/Users/haako/Documents/_NTNU/_2022Host/TDT4173-machine-learning/tdt-4173-revenue/src/models/conv_network.ipynb#X14sZmlsZQ%3D%3D?line=0'>1</a>\u001b[0m \u001b[39mprint\u001b[39m(rmsle(y_val, np\u001b[39m.\u001b[39;49mexpm1(torch\u001b[39m.\u001b[39;49mcat(y_hat, \u001b[39m0\u001b[39;49m)\u001b[39m.\u001b[39;49mnumpy()\u001b[39m.\u001b[39;49mreshape(\u001b[39m-\u001b[39;49m\u001b[39m1\u001b[39;49m))))\n",
      "\u001b[1;32mc:\\Users\\haako\\Documents\\_NTNU\\_2022Host\\TDT4173-machine-learning\\tdt-4173-revenue\\src\\models\\conv_network.ipynb Cell 16\u001b[0m in \u001b[0;36mrmsle\u001b[1;34m(y_true, y_pred)\u001b[0m\n\u001b[0;32m     <a href='vscode-notebook-cell:/c%3A/Users/haako/Documents/_NTNU/_2022Host/TDT4173-machine-learning/tdt-4173-revenue/src/models/conv_network.ipynb#X14sZmlsZQ%3D%3D?line=15'>16</a>\u001b[0m \u001b[39massert\u001b[39;00m (y_true \u001b[39m>\u001b[39m\u001b[39m=\u001b[39m \u001b[39m0\u001b[39m)\u001b[39m.\u001b[39mall(), \u001b[39m'\u001b[39m\u001b[39mReceived negative y_true values\u001b[39m\u001b[39m'\u001b[39m\n\u001b[0;32m     <a href='vscode-notebook-cell:/c%3A/Users/haako/Documents/_NTNU/_2022Host/TDT4173-machine-learning/tdt-4173-revenue/src/models/conv_network.ipynb#X14sZmlsZQ%3D%3D?line=16'>17</a>\u001b[0m \u001b[39massert\u001b[39;00m (y_pred \u001b[39m>\u001b[39m\u001b[39m=\u001b[39m \u001b[39m0\u001b[39m)\u001b[39m.\u001b[39mall(), \u001b[39m'\u001b[39m\u001b[39mReceived negative y_pred values\u001b[39m\u001b[39m'\u001b[39m\n\u001b[1;32m---> <a href='vscode-notebook-cell:/c%3A/Users/haako/Documents/_NTNU/_2022Host/TDT4173-machine-learning/tdt-4173-revenue/src/models/conv_network.ipynb#X14sZmlsZQ%3D%3D?line=17'>18</a>\u001b[0m \u001b[39massert\u001b[39;00m y_true\u001b[39m.\u001b[39mshape \u001b[39m==\u001b[39m y_pred\u001b[39m.\u001b[39mshape, \u001b[39m'\u001b[39m\u001b[39my_true and y_pred have different shapes\u001b[39m\u001b[39m'\u001b[39m\n\u001b[0;32m     <a href='vscode-notebook-cell:/c%3A/Users/haako/Documents/_NTNU/_2022Host/TDT4173-machine-learning/tdt-4173-revenue/src/models/conv_network.ipynb#X14sZmlsZQ%3D%3D?line=18'>19</a>\u001b[0m y_true_log1p \u001b[39m=\u001b[39m np\u001b[39m.\u001b[39mlog1p(y_true)  \u001b[39m# log(1 + y_true)\u001b[39;00m\n\u001b[0;32m     <a href='vscode-notebook-cell:/c%3A/Users/haako/Documents/_NTNU/_2022Host/TDT4173-machine-learning/tdt-4173-revenue/src/models/conv_network.ipynb#X14sZmlsZQ%3D%3D?line=19'>20</a>\u001b[0m y_pred_log1p \u001b[39m=\u001b[39m np\u001b[39m.\u001b[39mlog1p(y_pred)  \u001b[39m# log(1 + y_pred)\u001b[39;00m\n",
      "\u001b[1;31mAssertionError\u001b[0m: y_true and y_pred have different shapes"
     ]
    }
   ],
   "source": []
  },
  {
   "cell_type": "code",
   "execution_count": null,
   "metadata": {},
   "outputs": [],
   "source": []
  }
 ],
 "metadata": {
  "kernelspec": {
   "display_name": "Python 3.9.13 ('tdt4173')",
   "language": "python",
   "name": "python3"
  },
  "language_info": {
   "codemirror_mode": {
    "name": "ipython",
    "version": 3
   },
   "file_extension": ".py",
   "mimetype": "text/x-python",
   "name": "python",
   "nbconvert_exporter": "python",
   "pygments_lexer": "ipython3",
   "version": "3.9.13"
  },
  "orig_nbformat": 4,
  "vscode": {
   "interpreter": {
    "hash": "9a1013845248e30736e18085f9632598af74800f63e4cdc02bac7c14c90f9e84"
   }
  }
 },
 "nbformat": 4,
 "nbformat_minor": 2
}
